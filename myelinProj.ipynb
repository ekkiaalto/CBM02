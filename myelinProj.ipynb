{
 "cells": [
  {
   "cell_type": "code",
   "execution_count": 2,
   "id": "dde819b0",
   "metadata": {},
   "outputs": [],
   "source": [
    "import numpy as np\n"
   ]
  },
  {
   "cell_type": "code",
   "execution_count": 10,
   "id": "596c06e4",
   "metadata": {},
   "outputs": [],
   "source": [
    "#list the constants\n",
    "\n",
    "n = 100\n",
    "\n",
    "length = 10\n",
    "C = np.zeros((length, n, n))\n",
    "\n",
    "#set the first layer to have the higher consentration\n",
    "C[0] = np.ones((n,n))\n",
    "\n",
    "#max dx can be equal to raviers divides distance from each other (50 um)\n",
    "#so x may be a contant inste)ad of a continuing function\n",
    "dx = 50\n",
    "\n",
    "\n",
    "#the diffusion constant (constant thanks to dx = 50 um)\n",
    "D = 0\n",
    "\n",
    "#timeinterval???\n",
    "\n"
   ]
  },
  {
   "cell_type": "code",
   "execution_count": 3,
   "id": "24f78cb9",
   "metadata": {},
   "outputs": [],
   "source": [
    "#sum over n terms\n",
    "def summer():\n",
    "    \n",
    "    return null\n",
    "\n",
    "\n",
    "#consentration change inside matrix per layer x (x is constant, all layers identical)\n",
    "def consum(layer,p,n):\n",
    "    \n",
    "    ldiff = p+n - 2*layer/(dx**2)\n",
    "    \n",
    "    return ldiff"
   ]
  },
  {
   "cell_type": "code",
   "execution_count": null,
   "id": "5621ad45",
   "metadata": {},
   "outputs": [],
   "source": [
    "#run the model\n",
    "\n",
    "\n",
    "for n in range(n):\n",
    "    \n",
    "    #update each layer (not first of last)\n",
    "    for l in range(length - 1):\n",
    "        C[l] = consum(C[l+1], C[l], C[l+2])\n",
    "    \n",
    "    \n",
    "    \n"
   ]
  }
 ],
 "metadata": {
  "kernelspec": {
   "display_name": "Python 3 (ipykernel)",
   "language": "python",
   "name": "python3"
  },
  "language_info": {
   "codemirror_mode": {
    "name": "ipython",
    "version": 3
   },
   "file_extension": ".py",
   "mimetype": "text/x-python",
   "name": "python",
   "nbconvert_exporter": "python",
   "pygments_lexer": "ipython3",
   "version": "3.9.12"
  }
 },
 "nbformat": 4,
 "nbformat_minor": 5
}
